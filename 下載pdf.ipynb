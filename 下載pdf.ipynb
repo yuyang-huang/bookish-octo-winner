{
 "cells": [
  {
   "cell_type": "markdown",
   "id": "9725b198-1593-4190-8df9-27b7771cbaf4",
   "metadata": {},
   "source": [
    "# 1. 從公開資訊觀測站找出財報PDF的網址"
   ]
  },
  {
   "cell_type": "code",
   "execution_count": 1,
   "id": "0b0dff96-f496-404d-974a-1183821446b0",
   "metadata": {},
   "outputs": [],
   "source": [
    "# 公司代碼\n",
    "company_codes = ['2540', '2348', '5515', '2546', '2597', '5519']"
   ]
  },
  {
   "cell_type": "code",
   "execution_count": 2,
   "id": "6bb2fa00-e98a-4411-896d-baba188c0132",
   "metadata": {},
   "outputs": [],
   "source": [
    "import requests  # 相同於：打網址 -> 按enter\n",
    "from bs4 import BeautifulSoup  # 在網頁上找想要的字或連結，類似搜尋功能"
   ]
  },
  {
   "cell_type": "code",
   "execution_count": 3,
   "id": "be7a12b2-1b35-4ef2-a66f-fff204dca324",
   "metadata": {},
   "outputs": [],
   "source": [
    "def get_pdf_link(season, company_id):  # 定義一個功能，還有他需要輸入什麼\n",
    "    # 檔名：202402_5515_AI1.pdf\n",
    "    filename = season + '_' + company_id + '_AI1.pdf'\n",
    "\n",
    "    # 模仿網頁跟java伺服器拿資料的過程\n",
    "    \"\"\"\n",
    "    模仿網頁裡面用的程式碼：\n",
    "    function readfile2(kind,coid,filename)\n",
    "    {\n",
    "    \tvar f = document.forms[0];\n",
    "    \tf.step.value = 9;\n",
    "    \tf.kind.value = kind;\n",
    "    \tf.co_id.value = coid;\n",
    "    \tf.filename.value = filename;\n",
    "    \tf.submit();\n",
    "    }\n",
    "    \"\"\"\n",
    "    data = {\n",
    "        'step': '9',\n",
    "        'kind': 'A',\n",
    "        'co_id': company_id,\n",
    "        'filename': filename,\n",
    "    }\n",
    "    response = requests.post('https://doc.twse.com.tw/server-java/t57sb01', data=data)\n",
    "\n",
    "    # 把pdf的連結抓出來：https://doc.twse.com.tw/pdf/202402_2442_AI1_20240814_215010.pdf\n",
    "    soup = BeautifulSoup(response.text)\n",
    "    link = soup.find('a')['href']\n",
    "    return 'https://doc.twse.com.tw' + link"
   ]
  },
  {
   "cell_type": "code",
   "execution_count": 10,
   "id": "9e8d9df4-4a2c-48c5-9ea6-404277c4fcf0",
   "metadata": {},
   "outputs": [
    {
     "name": "stdout",
     "output_type": "stream",
     "text": [
      "公司代碼: 2540\n"
     ]
    },
    {
     "ename": "TypeError",
     "evalue": "'NoneType' object is not subscriptable",
     "output_type": "error",
     "traceback": [
      "\u001b[0;31m---------------------------------------------------------------------------\u001b[0m",
      "\u001b[0;31mTypeError\u001b[0m                                 Traceback (most recent call last)",
      "Cell \u001b[0;32mIn[10], line 4\u001b[0m\n\u001b[1;32m      2\u001b[0m \u001b[38;5;28;01mfor\u001b[39;00m company_id \u001b[38;5;129;01min\u001b[39;00m company_codes:\n\u001b[1;32m      3\u001b[0m     \u001b[38;5;28mprint\u001b[39m(\u001b[38;5;124m'\u001b[39m\u001b[38;5;124m公司代碼: \u001b[39m\u001b[38;5;124m'\u001b[39m \u001b[38;5;241m+\u001b[39m company_id)\n\u001b[0;32m----> 4\u001b[0m     link \u001b[38;5;241m=\u001b[39m \u001b[43mget_pdf_link\u001b[49m\u001b[43m(\u001b[49m\u001b[38;5;124;43m'\u001b[39;49m\u001b[38;5;124;43m202402\u001b[39;49m\u001b[38;5;124;43m'\u001b[39;49m\u001b[43m,\u001b[49m\u001b[43m \u001b[49m\u001b[43mcompany_id\u001b[49m\u001b[43m)\u001b[49m\n\u001b[1;32m      5\u001b[0m     \u001b[38;5;28mprint\u001b[39m(\u001b[38;5;124m'\u001b[39m\u001b[38;5;124m得到pdf網址: \u001b[39m\u001b[38;5;124m'\u001b[39m \u001b[38;5;241m+\u001b[39m link)\n\u001b[1;32m      6\u001b[0m     all_pdf_links\u001b[38;5;241m.\u001b[39mappend(link)\n",
      "Cell \u001b[0;32mIn[3], line 28\u001b[0m, in \u001b[0;36mget_pdf_link\u001b[0;34m(season, company_id)\u001b[0m\n\u001b[1;32m     26\u001b[0m \u001b[38;5;66;03m# 把pdf的連結抓出來：https://doc.twse.com.tw/pdf/202402_2442_AI1_20240814_215010.pdf\u001b[39;00m\n\u001b[1;32m     27\u001b[0m soup \u001b[38;5;241m=\u001b[39m BeautifulSoup(response\u001b[38;5;241m.\u001b[39mtext)\n\u001b[0;32m---> 28\u001b[0m link \u001b[38;5;241m=\u001b[39m \u001b[43msoup\u001b[49m\u001b[38;5;241;43m.\u001b[39;49m\u001b[43mfind\u001b[49m\u001b[43m(\u001b[49m\u001b[38;5;124;43m'\u001b[39;49m\u001b[38;5;124;43ma\u001b[39;49m\u001b[38;5;124;43m'\u001b[39;49m\u001b[43m)\u001b[49m\u001b[43m[\u001b[49m\u001b[38;5;124;43m'\u001b[39;49m\u001b[38;5;124;43mhref\u001b[39;49m\u001b[38;5;124;43m'\u001b[39;49m\u001b[43m]\u001b[49m\n\u001b[1;32m     29\u001b[0m \u001b[38;5;28;01mreturn\u001b[39;00m \u001b[38;5;124m'\u001b[39m\u001b[38;5;124mhttps://doc.twse.com.tw\u001b[39m\u001b[38;5;124m'\u001b[39m \u001b[38;5;241m+\u001b[39m link\n",
      "\u001b[0;31mTypeError\u001b[0m: 'NoneType' object is not subscriptable"
     ]
    }
   ],
   "source": [
    "import time\n",
    "\n",
    "all_pdf_links = []\n",
    "for company_id in company_codes:\n",
    "    print('公司代碼: ' + company_id)\n",
    "    link = get_pdf_link('202402', company_id)\n",
    "    print('得到pdf網址: ' + link)\n",
    "    all_pdf_links.append(link)\n",
    "    time.sleep(3)"
   ]
  },
  {
   "cell_type": "code",
   "execution_count": 14,
   "id": "c2f64077-d96e-4b80-8fb6-c1b5f176265c",
   "metadata": {},
   "outputs": [
    {
     "data": {
      "text/plain": [
       "['https://doc.twse.com.tw/pdf/202402_2540_AI1_20240815_214210.pdf',\n",
       " 'https://doc.twse.com.tw/pdf/202402_2348_AI1_20240815_214213.pdf',\n",
       " 'https://doc.twse.com.tw/pdf/202402_5515_AI1_20240815_214217.pdf',\n",
       " 'https://doc.twse.com.tw/pdf/202402_2546_AI1_20240815_214220.pdf',\n",
       " 'https://doc.twse.com.tw/pdf/202402_2597_AI1_20240815_214223.pdf',\n",
       " 'https://doc.twse.com.tw/pdf/202402_5519_AI1_20240815_214226.pdf']"
      ]
     },
     "execution_count": 14,
     "metadata": {},
     "output_type": "execute_result"
    }
   ],
   "source": [
    "all_pdf_links"
   ]
  },
  {
   "cell_type": "markdown",
   "id": "8f145875-8751-4464-bc71-f49eaa883c9c",
   "metadata": {},
   "source": [
    "# 2. 下載財報PDF，存到電腦"
   ]
  },
  {
   "cell_type": "code",
   "execution_count": 15,
   "id": "7209c80f-aacd-4c80-99bb-6aacdd5df304",
   "metadata": {},
   "outputs": [
    {
     "name": "stdout",
     "output_type": "stream",
     "text": [
      "成功下載 202402_2540_AI1_20240815_214210.pdf\n",
      "成功下載 202402_2348_AI1_20240815_214213.pdf\n",
      "成功下載 202402_5515_AI1_20240815_214217.pdf\n",
      "成功下載 202402_2546_AI1_20240815_214220.pdf\n",
      "成功下載 202402_2597_AI1_20240815_214223.pdf\n",
      "成功下載 202402_5519_AI1_20240815_214226.pdf\n"
     ]
    }
   ],
   "source": [
    "import requests\n",
    "\n",
    "for pdf_link in all_pdf_links:\n",
    "    # 從網址中取得檔名\n",
    "    filename = pdf_link.split(\"/\")[-1]\n",
    "\n",
    "    try:\n",
    "        # 發送請求下載 PDF 檔案\n",
    "        response = requests.get(pdf_link)\n",
    "        response.raise_for_status()  # 如果下載失敗，拋出例外\n",
    "\n",
    "        # 將 PDF 內容寫入檔案\n",
    "        with open(filename, \"wb\") as pdf_file:\n",
    "            pdf_file.write(response.content)\n",
    "\n",
    "        print(f\"成功下載 {filename}\")\n",
    "\n",
    "    except requests.exceptions.RequestException as e:\n",
    "        print(f\"下載 {filename} 失敗: {e}\")"
   ]
  }
 ],
 "metadata": {
  "kernelspec": {
   "display_name": "Python 3 (ipykernel)",
   "language": "python",
   "name": "python3"
  },
  "language_info": {
   "codemirror_mode": {
    "name": "ipython",
    "version": 3
   },
   "file_extension": ".py",
   "mimetype": "text/x-python",
   "name": "python",
   "nbconvert_exporter": "python",
   "pygments_lexer": "ipython3",
   "version": "3.10.4"
  }
 },
 "nbformat": 4,
 "nbformat_minor": 5
}
